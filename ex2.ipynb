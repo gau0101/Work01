{
  "cells": [
    {
      "cell_type": "markdown",
      "metadata": {
        "id": "m7uBeFrDcXux"
      },
      "source": [
        "# Chap2 流程控制"
      ]
    },
    {
      "cell_type": "markdown",
      "metadata": {
        "id": "eHJECWApcXu1"
      },
      "source": [
        "## if else , elif"
      ]
    },
    {
      "cell_type": "code",
      "execution_count": null,
      "metadata": {
        "id": "ljqRJS1BcXu2",
        "outputId": "0887ac79-44ab-4038-d023-532b21ebe74a"
      },
      "outputs": [
        {
          "name": "stdout",
          "output_type": "stream",
          "text": [
            "b是比較大的數字\n"
          ]
        }
      ],
      "source": [
        "a=3\n",
        "b=4\n",
        "if a <= b:\n",
        "    print(\"b是比較大的數字\")\n",
        "else:\n",
        "    print(\"a是比較大的數字\")"
      ]
    },
    {
      "cell_type": "markdown",
      "metadata": {
        "id": "WGf-xlEXcXu6"
      },
      "source": [
        "### 成績評鑑"
      ]
    },
    {
      "cell_type": "code",
      "execution_count": null,
      "metadata": {
        "id": "JiOZ3P_ocXu7",
        "outputId": "a0d539be-8b47-4a8d-8cf8-b636db131890"
      },
      "outputs": [
        {
          "name": "stdout",
          "output_type": "stream",
          "text": [
            "成績評鑑：\n",
            "甲等\n"
          ]
        }
      ],
      "source": [
        "grade=87\n",
        "print(\"成績評鑑：\")\n",
        "if grade >= 90:\n",
        "    print(\"優等\")\n",
        "elif grade >=80:\n",
        "    print(\"甲等\")\n",
        "elif grade >=70:\n",
        "    print(\"乙等\")\n",
        "elif grade >=60:\n",
        "    print(\"丙等\")\n",
        "else:\n",
        "    print(\"不及格\")\n"
      ]
    },
    {
      "cell_type": "markdown",
      "metadata": {
        "id": "Ke1DBeN0cXu8"
      },
      "source": [
        "## for 迴圈"
      ]
    },
    {
      "cell_type": "code",
      "execution_count": null,
      "metadata": {
        "id": "tQYH5VkKcXu9",
        "outputId": "38ae497b-abb7-494f-fb96-3b3850e72cd3"
      },
      "outputs": [
        {
          "name": "stdout",
          "output_type": "stream",
          "text": [
            "1+2+3+...+10 = 55\n"
          ]
        }
      ],
      "source": [
        "#1+2+3...+10總和\n",
        "sum = 0\n",
        "for count in range(1, 11, 1)\n",
        "    sum += count\n",
        "print(\"1+2+3+...+10 =\", sum)"
      ]
    },
    {
      "cell_type": "code",
      "execution_count": null,
      "metadata": {
        "id": "t_b1eTTkcXu-",
        "outputId": "3881e3f5-f44e-4729-e059-c8772d5ce3ec"
      },
      "outputs": [
        {
          "name": "stdout",
          "output_type": "stream",
          "text": [
            "1+2+3+...+10 = 55\n"
          ]
        }
      ],
      "source": [
        "#range另外一種寫法\n",
        "#1+2+3...+10總和\n",
        "sum = 0\n",
        "for count in range(11)\n",
        "    sum += count\n",
        "print(\"1+2+3+...+10 =\", sum)"
      ]
    },
    {
      "cell_type": "code",
      "execution_count": null,
      "metadata": {
        "id": "Nv14ODmScXu_",
        "outputId": "66004a6f-bde9-42d5-d052-cec25514bc23"
      },
      "outputs": [
        {
          "name": "stdout",
          "output_type": "stream",
          "text": [
            "f\n",
            "o\n",
            "r\n",
            " \n",
            "s\n",
            "t\n",
            "a\n",
            "t\n",
            "e\n",
            "m\n",
            "e\n",
            "n\n",
            "t\n",
            "end list\n"
          ]
        }
      ],
      "source": [
        "mylist=\"for statement\"\n",
        "for c in mylist:\n",
        "    print(c)\n",
        "print(\"end list\")"
      ]
    },
    {
      "cell_type": "code",
      "execution_count": null,
      "metadata": {
        "id": "bHFI5CpEcXvB",
        "outputId": "02853ea6-88bb-4479-a9b0-fb59e2fbe782"
      },
      "outputs": [
        {
          "name": "stdout",
          "output_type": "stream",
          "text": [
            "Java\n",
            "C#\n",
            "Python\n"
          ]
        }
      ],
      "source": [
        "for pl in [\"Java\", \"C#\", \"Python\"]:\n",
        "    print(pl)"
      ]
    },
    {
      "cell_type": "markdown",
      "metadata": {
        "id": "HXjS7UetcXvC"
      },
      "source": [
        "### 雞兔同籠，若共有35個頭，94隻腳，請問有幾隻雞?幾隻兔?"
      ]
    },
    {
      "cell_type": "code",
      "execution_count": null,
      "metadata": {
        "id": "pdqOsGl3cXvC",
        "outputId": "759cc859-6a4f-4b12-f940-c2e9bc0f608d"
      },
      "outputs": [
        {
          "name": "stdout",
          "output_type": "stream",
          "text": [
            "雞有 23 隻,兔子有 12 隻\n"
          ]
        }
      ],
      "source": [
        "for chicken in range(0,36):\n",
        "    rabbit=35-chicken\n",
        "    if (2*chicken+4*rabbit) == 94:\n",
        "        print(\"雞有\",chicken,\"隻,兔子有\",rabbit,\"隻\")\n",
        "        break\n",
        "else:\n",
        "    print(\"無解\")"
      ]
    },
    {
      "cell_type": "markdown",
      "metadata": {
        "id": "WZOs43wocXvD"
      },
      "source": [
        "## while迴圈"
      ]
    },
    {
      "cell_type": "code",
      "execution_count": null,
      "metadata": {
        "id": "D0okAymOcXvE",
        "outputId": "ef44f75d-6786-4ca2-f5c0-d64515b1a878"
      },
      "outputs": [
        {
          "name": "stdout",
          "output_type": "stream",
          "text": [
            "1+2+3+...+10= 55\n"
          ]
        }
      ],
      "source": [
        "sum=0\n",
        "count=1\n",
        "while count <=10:\n",
        "    sum += count\n",
        "    count += 1\n",
        "print(\"1+2+3+...+10=\",sum)"
      ]
    },
    {
      "cell_type": "markdown",
      "metadata": {
        "id": "_P9TCbpKcXvF"
      },
      "source": [
        "### 本金10000元，定存年利率0.6%，請問多久銀行存款會翻倍"
      ]
    },
    {
      "cell_type": "code",
      "execution_count": null,
      "metadata": {
        "id": "MxeNmSz8cXvF",
        "outputId": "73b172b2-9731-4730-b1ff-b40963a746f4"
      },
      "outputs": [
        {
          "name": "stdout",
          "output_type": "stream",
          "text": [
            "116 年以後，存款加倍，為 20015 元\n"
          ]
        }
      ],
      "source": [
        "x=10000\n",
        "years=0\n",
        "while x <= 20000:\n",
        "    x=x*1.006\n",
        "    years += 1\n",
        "print(str(years), \"年以後，存款加倍，為\", int(x),\"元\")"
      ]
    },
    {
      "cell_type": "markdown",
      "metadata": {
        "id": "nKjyEQZ6cXvH"
      },
      "source": [
        "### 帳號密碼判斷"
      ]
    },
    {
      "cell_type": "code",
      "execution_count": null,
      "metadata": {
        "id": "EdqPToDWcXvH",
        "outputId": "64df8534-ada3-49ce-def5-bc129d9cddc5"
      },
      "outputs": [
        {
          "name": "stdout",
          "output_type": "stream",
          "text": [
            "請輸入帳號：sa;djf\n",
            "請輸入密碼：adsjf;a\n",
            "帳號或密碼輸入錯誤\n",
            "請輸入帳號：tony\n",
            "請輸入密碼：asdf\n",
            "帳號或密碼輸入錯誤\n",
            "請輸入帳號：asdf\n",
            "請輸入密碼：1234\n",
            "帳號或密碼輸入錯誤\n",
            "請輸入帳號：tony\n",
            "請輸入密碼：1234\n",
            "歡迎登入\n"
          ]
        }
      ],
      "source": [
        "id=\"tony\"\n",
        "pwd=\"1234\"\n",
        "while True:\n",
        "    x=input(\"請輸入帳號：\")\n",
        "    y=input(\"請輸入密碼：\")\n",
        "    if (x==id and y==pwd):\n",
        "        print(\"歡迎登入\")\n",
        "        break\n",
        "    else:\n",
        "        print(\"帳號或密碼輸入錯誤\")"
      ]
    },
    {
      "cell_type": "markdown",
      "metadata": {
        "id": "bHpP7E_XcXvJ"
      },
      "source": [
        "## 亂數"
      ]
    },
    {
      "cell_type": "code",
      "execution_count": null,
      "metadata": {
        "id": "HSGeUCmYcXvJ",
        "outputId": "a98114ff-6b41-44a8-a617-74a768d7e530"
      },
      "outputs": [
        {
          "name": "stdout",
          "output_type": "stream",
          "text": [
            "6\n",
            "5\n",
            "7\n",
            "5\n",
            "9\n",
            "2\n",
            "9\n",
            "1\n",
            "9\n",
            "2\n"
          ]
        }
      ],
      "source": [
        "import random\n",
        "for i in range(0,10):\n",
        "    print(random.randint(1,9))"
      ]
    },
    {
      "cell_type": "markdown",
      "metadata": {
        "id": "lpfqA275cXvK"
      },
      "source": [
        "### 猜數字"
      ]
    },
    {
      "cell_type": "code",
      "execution_count": null,
      "metadata": {
        "id": "b22sPmyfcXvL",
        "outputId": "8cac0ae8-40b3-4a74-860c-4c7a82a8a822"
      },
      "outputs": [
        {
          "name": "stdout",
          "output_type": "stream",
          "text": [
            "請輸入1~20之間的數字-->10\n",
            "你猜錯了\n",
            "請輸入1~20之間的數字-->9\n",
            "你猜錯了\n",
            "請輸入1~20之間的數字-->8\n",
            "你猜錯了\n",
            "請輸入1~20之間的數字-->7\n",
            "你猜錯了\n",
            "請輸入1~20之間的數字-->6\n",
            "你猜錯了\n",
            "請輸入1~20之間的數字-->5\n",
            "你猜錯了\n",
            "請輸入1~20之間的數字-->4\n",
            "你猜錯了\n",
            "請輸入1~20之間的數字-->3\n",
            "你猜錯了\n",
            "請輸入1~20之間的數字-->2\n",
            "你猜錯了\n",
            "請輸入1~20之間的數字-->1\n",
            "你猜錯了\n",
            "請輸入1~20之間的數字-->11\n",
            "你猜錯了\n",
            "請輸入1~20之間的數字-->12\n",
            "你猜錯了\n",
            "請輸入1~20之間的數字-->13\n",
            "你猜對了，數字是 13\n"
          ]
        }
      ],
      "source": [
        "import random\n",
        "number=random.randint(1,20)\n",
        "while True:\n",
        "    guess=int(input(\"請輸入1~20之間的數字-->\"))\n",
        "    if guess == number:\n",
        "        print(\"你猜對了，數字是\", number)\n",
        "        break\n",
        "    else:\n",
        "        print(\"你猜錯了\")"
      ]
    },
    {
      "cell_type": "code",
      "execution_count": null,
      "metadata": {
        "collapsed": true,
        "id": "isLHRUQrcXvM"
      },
      "outputs": [],
      "source": [
        ""
      ]
    }
  ],
  "metadata": {
    "kernelspec": {
      "display_name": "Python 3",
      "language": "python",
      "name": "python3"
    },
    "language_info": {
      "codemirror_mode": {
        "name": "ipython",
        "version": 3
      },
      "file_extension": ".py",
      "mimetype": "text/x-python",
      "name": "python",
      "nbconvert_exporter": "python",
      "pygments_lexer": "ipython3",
      "version": "3.6.3"
    },
    "colab": {
      "name": "Chap2.ipynb",
      "provenance": []
    }
  },
  "nbformat": 4,
  "nbformat_minor": 0
}