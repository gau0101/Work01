{
  "cells": [
    {
      "cell_type": "markdown",
      "metadata": {
        "id": "ouXCGqJWaiXa"
      },
      "source": [
        "# Chap6\n",
        "os套件：用來處理文件與目錄，與檔案相關操作"
      ]
    },
    {
      "cell_type": "code",
      "execution_count": null,
      "metadata": {
        "id": "1YAPoX1NaiXh",
        "outputId": "deb5d445-cfe9-4552-f750-a855a7a7919a"
      },
      "outputs": [
        {
          "name": "stdout",
          "output_type": "stream",
          "text": [
            "C:\\Users\\Administrator\n"
          ]
        }
      ],
      "source": [
        "import os\n",
        "print(os.getcwd()) "
      ]
    },
    {
      "cell_type": "code",
      "execution_count": null,
      "metadata": {
        "id": "7hUDmrQ8aiXk",
        "outputId": "cf5c5f64-14ad-45c2-ed17-bc08e71ee2a3"
      },
      "outputs": [
        {
          "data": {
            "text/plain": [
              "['.conda',\n",
              " '.condarc',\n",
              " '.config',\n",
              " '.dotnet',\n",
              " '.eclipse',\n",
              " '.ipynb_checkpoints',\n",
              " '.ipython',\n",
              " '.p2',\n",
              " '.packettracer',\n",
              " '.templateengine',\n",
              " '.tooling',\n",
              " '.VirtualBox',\n",
              " '.vscode',\n",
              " '3D Objects',\n",
              " 'anaconda3',\n",
              " 'AppData',\n",
              " 'Application Data',\n",
              " 'Chap6_inclass.ipynb',\n",
              " 'Cisco Packet Tracer 6.1.1sv',\n",
              " 'Cisco Packet Tracer 7.3.0',\n",
              " 'Cisco Packet Tracer 7.3.1',\n",
              " 'Contacts',\n",
              " 'Cookies',\n",
              " 'Desktop',\n",
              " 'Documents',\n",
              " 'Downloads',\n",
              " 'Favorites',\n",
              " 'Intel',\n",
              " 'IntelGraphicsProfiles',\n",
              " 'Links',\n",
              " 'Local Settings',\n",
              " 'MicrosoftEdgeBackups',\n",
              " 'Music',\n",
              " 'My Documents',\n",
              " 'NetHood',\n",
              " 'NTUSER.DAT',\n",
              " 'ntuser.dat.LOG1',\n",
              " 'ntuser.dat.LOG2',\n",
              " 'NTUSER.DAT{53b39e88-18c4-11ea-a811-000d3aa4692b}.TM.blf',\n",
              " 'NTUSER.DAT{53b39e88-18c4-11ea-a811-000d3aa4692b}.TMContainer00000000000000000001.regtrans-ms',\n",
              " 'NTUSER.DAT{53b39e88-18c4-11ea-a811-000d3aa4692b}.TMContainer00000000000000000002.regtrans-ms',\n",
              " 'ntuser.ini',\n",
              " 'Oracle',\n",
              " 'Pictures',\n",
              " 'PrintHood',\n",
              " 'Recent',\n",
              " 'Saved Games',\n",
              " 'Searches',\n",
              " 'SendTo',\n",
              " 'source',\n",
              " 'Templates',\n",
              " 'Videos',\n",
              " 'VirtualBox VMs',\n",
              " '「開始」功能表']"
            ]
          },
          "execution_count": 2,
          "metadata": {},
          "output_type": "execute_result"
        }
      ],
      "source": [
        "\n",
        "os.listdir(\".\")   #顯示目錄下的檔案"
      ]
    },
    {
      "cell_type": "code",
      "execution_count": null,
      "metadata": {
        "id": "iuUbtsn0aiXl",
        "outputId": "48e1662e-5dc6-4d0c-acdd-bd28bef88e0f"
      },
      "outputs": [
        {
          "data": {
            "text/plain": [
              "['.conda',\n",
              " '.condarc',\n",
              " '.config',\n",
              " '.dotnet',\n",
              " '.eclipse',\n",
              " '.ipynb_checkpoints',\n",
              " '.ipython',\n",
              " '.p2',\n",
              " '.packettracer',\n",
              " '.templateengine',\n",
              " '.tooling',\n",
              " '.VirtualBox',\n",
              " '.vscode',\n",
              " '3D Objects',\n",
              " 'anaconda3',\n",
              " 'AppData',\n",
              " 'Application Data',\n",
              " 'Chap6_inclass.ipynb',\n",
              " 'Cisco Packet Tracer 6.1.1sv',\n",
              " 'Cisco Packet Tracer 7.3.0',\n",
              " 'Cisco Packet Tracer 7.3.1',\n",
              " 'Contacts',\n",
              " 'Cookies',\n",
              " 'Desktop',\n",
              " 'Documents',\n",
              " 'Downloads',\n",
              " 'Favorites',\n",
              " 'Intel',\n",
              " 'IntelGraphicsProfiles',\n",
              " 'Links',\n",
              " 'Local Settings',\n",
              " 'MicrosoftEdgeBackups',\n",
              " 'Music',\n",
              " 'My Documents',\n",
              " 'NetHood',\n",
              " 'NTUSER.DAT',\n",
              " 'ntuser.dat.LOG1',\n",
              " 'ntuser.dat.LOG2',\n",
              " 'NTUSER.DAT{53b39e88-18c4-11ea-a811-000d3aa4692b}.TM.blf',\n",
              " 'NTUSER.DAT{53b39e88-18c4-11ea-a811-000d3aa4692b}.TMContainer00000000000000000001.regtrans-ms',\n",
              " 'NTUSER.DAT{53b39e88-18c4-11ea-a811-000d3aa4692b}.TMContainer00000000000000000002.regtrans-ms',\n",
              " 'ntuser.ini',\n",
              " 'Oracle',\n",
              " 'Pictures',\n",
              " 'PrintHood',\n",
              " 'Recent',\n",
              " 'Saved Games',\n",
              " 'Searches',\n",
              " 'SendTo',\n",
              " 'source',\n",
              " 'Templates',\n",
              " 'test',\n",
              " 'Videos',\n",
              " 'VirtualBox VMs',\n",
              " '「開始」功能表']"
            ]
          },
          "execution_count": 3,
          "metadata": {},
          "output_type": "execute_result"
        }
      ],
      "source": [
        "\n",
        "os.makedirs(\"test\")   #新增目錄\n",
        "os.listdir(\".\")"
      ]
    },
    {
      "cell_type": "code",
      "execution_count": null,
      "metadata": {
        "id": "VvHlz-m2aiXm",
        "outputId": "71a20022-31c6-4ddc-f7d8-2fdd73804027"
      },
      "outputs": [
        {
          "data": {
            "text/plain": [
              "['.conda',\n",
              " '.condarc',\n",
              " '.config',\n",
              " '.dotnet',\n",
              " '.eclipse',\n",
              " '.ipynb_checkpoints',\n",
              " '.ipython',\n",
              " '.p2',\n",
              " '.packettracer',\n",
              " '.templateengine',\n",
              " '.tooling',\n",
              " '.VirtualBox',\n",
              " '.vscode',\n",
              " '3D Objects',\n",
              " 'anaconda3',\n",
              " 'AppData',\n",
              " 'Application Data',\n",
              " 'Chap6_inclass.ipynb',\n",
              " 'Cisco Packet Tracer 6.1.1sv',\n",
              " 'Cisco Packet Tracer 7.3.0',\n",
              " 'Cisco Packet Tracer 7.3.1',\n",
              " 'Contacts',\n",
              " 'Cookies',\n",
              " 'Desktop',\n",
              " 'Documents',\n",
              " 'Downloads',\n",
              " 'Favorites',\n",
              " 'Intel',\n",
              " 'IntelGraphicsProfiles',\n",
              " 'Links',\n",
              " 'Local Settings',\n",
              " 'MicrosoftEdgeBackups',\n",
              " 'Music',\n",
              " 'My Documents',\n",
              " 'NetHood',\n",
              " 'NTUSER.DAT',\n",
              " 'ntuser.dat.LOG1',\n",
              " 'ntuser.dat.LOG2',\n",
              " 'NTUSER.DAT{53b39e88-18c4-11ea-a811-000d3aa4692b}.TM.blf',\n",
              " 'NTUSER.DAT{53b39e88-18c4-11ea-a811-000d3aa4692b}.TMContainer00000000000000000001.regtrans-ms',\n",
              " 'NTUSER.DAT{53b39e88-18c4-11ea-a811-000d3aa4692b}.TMContainer00000000000000000002.regtrans-ms',\n",
              " 'ntuser.ini',\n",
              " 'Oracle',\n",
              " 'Pictures',\n",
              " 'PrintHood',\n",
              " 'Recent',\n",
              " 'Saved Games',\n",
              " 'Searches',\n",
              " 'SendTo',\n",
              " 'source',\n",
              " 'Templates',\n",
              " 'Videos',\n",
              " 'VirtualBox VMs',\n",
              " '「開始」功能表']"
            ]
          },
          "execution_count": 4,
          "metadata": {},
          "output_type": "execute_result"
        }
      ],
      "source": [
        "\n",
        "os.rmdir(\"test\")   #移除\n",
        "os.listdir(\".\")"
      ]
    },
    {
      "cell_type": "markdown",
      "metadata": {
        "id": "K799_dsGaiXm"
      },
      "source": [
        "## 檔案處理\n",
        "os套件有自己的檔案處理命令，而比較常用的是python內建的open\n",
        "* w = 可寫(預設建立檔案) 若檔案存在則會清除舊檔案\n",
        "* w+ = 可寫可讀(預設建立檔案) 若檔案存在則會清除舊檔案\n",
        "* r = 可讀\n",
        "* r+ = 可寫可讀 但寫入資料指向開頭\n",
        "* a = 可寫不能讀 寫入資料指向尾端\n",
        "* a+ = 可寫可讀 寫入資料指向尾端\n",
        "* b = 轉為2進位文件\n",
        "* ab+ = 2進位文件的讀寫 寫入資料指向尾端"
      ]
    },
    {
      "cell_type": "markdown",
      "metadata": {
        "id": "GXaavpeMaiXn"
      },
      "source": [
        "## 新增檔案"
      ]
    },
    {
      "cell_type": "code",
      "execution_count": null,
      "metadata": {
        "id": "-7KpdEtLaiXo"
      },
      "outputs": [],
      "source": [
        "a=open(\"a.txt\",\"w\") #新增\n",
        "a.write(\"This is a test1\")\n",
        "a.write(\"This is a test2\\n\")\n",
        "a.write(\"This is a test3\\n\")\n",
        "a.close() #關閉"
      ]
    },
    {
      "cell_type": "markdown",
      "metadata": {
        "id": "Vz5IB5SJaiXo"
      },
      "source": [
        "## 檢查檔案是否存在"
      ]
    },
    {
      "cell_type": "code",
      "execution_count": null,
      "metadata": {
        "id": "OkOjX2vEaiXq",
        "outputId": "ef225d12-82fe-40c0-f360-566fd00ebba8"
      },
      "outputs": [
        {
          "data": {
            "text/plain": [
              "True"
            ]
          },
          "execution_count": 6,
          "metadata": {},
          "output_type": "execute_result"
        }
      ],
      "source": [
        "os.path.isfile(\"a.txt\")"
      ]
    },
    {
      "cell_type": "markdown",
      "metadata": {
        "id": "mQTWzRewaiXr"
      },
      "source": [
        "## 讀取檔案"
      ]
    },
    {
      "cell_type": "code",
      "execution_count": null,
      "metadata": {
        "id": "DzPRkHVfaiXs",
        "outputId": "541efbd6-b71f-4b7a-e241-113f45215ba6"
      },
      "outputs": [
        {
          "name": "stdout",
          "output_type": "stream",
          "text": [
            "This is a test1This is a test2\n",
            "\n",
            "This is a test3\n",
            "\n",
            "\n"
          ]
        }
      ],
      "source": [
        "a=open(\"a.txt\",\"r\")\n",
        "print(a.readline())\n",
        "print(a.readline())\n",
        "print(a.readline()) #多餘的命令\n",
        "a.close()"
      ]
    },
    {
      "cell_type": "code",
      "execution_count": null,
      "metadata": {
        "id": "zEozFdNaaiXt",
        "outputId": "1a7f7df3-3a29-4036-d6f0-2ab6b04e0aef"
      },
      "outputs": [
        {
          "name": "stdout",
          "output_type": "stream",
          "text": [
            "['This is a test1This is a test2\\n', 'This is a test3\\n']\n"
          ]
        }
      ],
      "source": [
        "a=open(\"a.txt\",\"r\")\n",
        "print(a.readlines())  #一次讀取多行\n",
        "a.close()"
      ]
    },
    {
      "cell_type": "code",
      "execution_count": null,
      "metadata": {
        "id": "UhuA1rqyaiXv",
        "outputId": "ea1b9e20-0b9c-4040-cd5a-99afc92dcadb"
      },
      "outputs": [
        {
          "name": "stdout",
          "output_type": "stream",
          "text": [
            "['This is a test1This is a test2\\n', 'This is a test3\\n']\n"
          ]
        }
      ],
      "source": [
        "#加上檔案是否存在的判斷\n",
        "if os.path.isfile(\"a.txt\"):\n",
        "    a=open(\"a.txt\",\"r\")\n",
        "    print(a.readlines())\n",
        "    a.close()\n",
        "else:\n",
        "    print(\"檔案不存在\")"
      ]
    },
    {
      "cell_type": "markdown",
      "metadata": {
        "id": "guzb6zOPaiXx"
      },
      "source": [
        "## split函式"
      ]
    },
    {
      "cell_type": "code",
      "execution_count": null,
      "metadata": {
        "id": "FGdCwt-4aiXx",
        "outputId": "36ffcf10-e298-4c8f-fa06-7470094cd067"
      },
      "outputs": [
        {
          "name": "stdout",
          "output_type": "stream",
          "text": [
            "['This', 'is', 'a', 'test1This', 'is', 'a', 'test2\\n']\n",
            "['This', 'is', 'a', 'test3\\n']\n"
          ]
        }
      ],
      "source": [
        "if os.path.isfile(\"a.txt\"):\n",
        "    a=open(\"a.txt\",\"r\")\n",
        "    for line in a:\n",
        "        fields=line.split(\" \") #空白切割欄位\n",
        "        print(fields)\n",
        "    a.close()\n",
        "else:\n",
        "    print(\"檔案不存在\")\n",
        "        "
      ]
    },
    {
      "cell_type": "markdown",
      "metadata": {
        "id": "6Eijm9FMaiXz"
      },
      "source": [
        "## 附加檔案"
      ]
    },
    {
      "cell_type": "code",
      "execution_count": null,
      "metadata": {
        "id": "XQLXOARIaiXz"
      },
      "outputs": [],
      "source": [
        "a=open(\"a.txt\", \"a\")\n",
        "a.write(\"This is test4\\n\")\n",
        "a.close()"
      ]
    },
    {
      "cell_type": "code",
      "execution_count": null,
      "metadata": {
        "id": "rxNPC5XBaiX0",
        "outputId": "84e19352-64bc-4d23-f476-558993122347"
      },
      "outputs": [
        {
          "name": "stdout",
          "output_type": "stream",
          "text": [
            "['This is a test1This is a test2\\n', 'This is a test3\\n', 'This is test4\\n']\n"
          ]
        }
      ],
      "source": [
        "a=open(\"a.txt\",\"r\")\n",
        "print(a.readlines())\n",
        "a.close()"
      ]
    },
    {
      "cell_type": "markdown",
      "metadata": {
        "id": "vk7wC3cqaiX1"
      },
      "source": [
        "## 比較a與r+的不同\n",
        "* a寫在檔案的結尾\n",
        "* r+寫在檔案的開頭"
      ]
    },
    {
      "cell_type": "code",
      "execution_count": null,
      "metadata": {
        "id": "Y6py4CkgaiX1"
      },
      "outputs": [],
      "source": [
        "a=open(\"a.txt\",\"r+\")\n",
        "a.write(\"This is a test5\\n\")\n",
        "a.close()"
      ]
    },
    {
      "cell_type": "code",
      "execution_count": null,
      "metadata": {
        "id": "dQIeRsjCaiX2",
        "outputId": "d94543da-ac0c-41f0-880e-98ef5bbf347d"
      },
      "outputs": [
        {
          "name": "stdout",
          "output_type": "stream",
          "text": [
            "['This is a test5\\n', 'is is a test2\\n', 'This is a test3\\n', 'This is test4\\n']\n"
          ]
        }
      ],
      "source": [
        "a=open(\"a.txt\",\"r\")\n",
        "print(a.readlines())\n",
        "a.close()"
      ]
    },
    {
      "cell_type": "markdown",
      "metadata": {
        "id": "R3wbK_fRaiX2"
      },
      "source": [
        "## 刪除檔案"
      ]
    },
    {
      "cell_type": "code",
      "execution_count": null,
      "metadata": {
        "id": "5kb54hufaiX3",
        "outputId": "60886a3b-bfe4-4e6d-fd5b-1885087420aa"
      },
      "outputs": [
        {
          "name": "stdout",
          "output_type": "stream",
          "text": [
            "檔案刪除成功\n",
            "False\n"
          ]
        }
      ],
      "source": [
        "if os.path.isfile(\"a.txt\"):\n",
        "    os.remove(\"a.txt\")\n",
        "    print(\"檔案刪除成功\")\n",
        "else:\n",
        "    print(\"找不到檔案\")\n",
        "print(os.path.isfile(\"a.txt\"))"
      ]
    },
    {
      "cell_type": "code",
      "execution_count": null,
      "metadata": {
        "id": "NQtRfHGaaiX4"
      },
      "outputs": [],
      "source": [
        ""
      ]
    }
  ],
  "metadata": {
    "kernelspec": {
      "display_name": "Python 3",
      "language": "python",
      "name": "python3"
    },
    "language_info": {
      "codemirror_mode": {
        "name": "ipython",
        "version": 3
      },
      "file_extension": ".py",
      "mimetype": "text/x-python",
      "name": "python",
      "nbconvert_exporter": "python",
      "pygments_lexer": "ipython3",
      "version": "3.8.5"
    },
    "colab": {
      "name": "Chap6.ipynb",
      "provenance": []
    }
  },
  "nbformat": 4,
  "nbformat_minor": 0
}