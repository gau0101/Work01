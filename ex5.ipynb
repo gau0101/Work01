{
  "cells": [
    {
      "cell_type": "markdown",
      "metadata": {
        "id": "Q38--k5XaGvc"
      },
      "source": [
        "# 函式(數)"
      ]
    },
    {
      "cell_type": "markdown",
      "metadata": {
        "id": "da3Vf63raGvh"
      },
      "source": [
        "## 傳統的寫法"
      ]
    },
    {
      "cell_type": "code",
      "execution_count": null,
      "metadata": {
        "id": "qryfVLJCaGvj",
        "outputId": "6e849298-8e20-4fb2-b728-1c2aee4df67c"
      },
      "outputs": [
        {
          "name": "stdout",
          "output_type": "stream",
          "text": [
            "請輸入圓的半徑：10\n",
            "圓的面積為： 314.1592653589793\n"
          ]
        }
      ],
      "source": [
        "import math\n",
        "radius = eval(input(\"請輸入圓的半徑：\")) #把輸入的字串變成數學計算型態\n",
        "print(\"圓的面積為：\", radius * radius * math.pi) #圓的公式\n"
      ]
    },
    {
      "cell_type": "markdown",
      "metadata": {
        "id": "eXlX2yn5aGvm"
      },
      "source": [
        "## 面積計算函示"
      ]
    },
    {
      "cell_type": "code",
      "execution_count": null,
      "metadata": {
        "id": "6SU5EXpIaGvm",
        "outputId": "01ceb940-0caa-4ec6-a72d-b7c88f394408"
      },
      "outputs": [
        {
          "name": "stdout",
          "output_type": "stream",
          "text": [
            "314.1592653589793\n"
          ]
        }
      ],
      "source": [
        "import math\n",
        "def circle_area(radius):\n",
        "    area = radius * radius * math.pi\n",
        "    return area\n",
        "\n",
        "print(circle_area(10))"
      ]
    },
    {
      "cell_type": "code",
      "source": [
        ""
      ],
      "metadata": {
        "id": "C76gurjYaaKn"
      },
      "execution_count": null,
      "outputs": []
    },
    {
      "cell_type": "code",
      "execution_count": null,
      "metadata": {
        "id": "gYWmlFtXaGvp"
      },
      "outputs": [],
      "source": [
        ""
      ]
    }
  ],
  "metadata": {
    "kernelspec": {
      "display_name": "Python 3",
      "language": "python",
      "name": "python3"
    },
    "language_info": {
      "codemirror_mode": {
        "name": "ipython",
        "version": 3
      },
      "file_extension": ".py",
      "mimetype": "text/x-python",
      "name": "python",
      "nbconvert_exporter": "python",
      "pygments_lexer": "ipython3",
      "version": "3.8.5"
    },
    "colab": {
      "name": "Chap5.ipynb",
      "provenance": []
    }
  },
  "nbformat": 4,
  "nbformat_minor": 0
}